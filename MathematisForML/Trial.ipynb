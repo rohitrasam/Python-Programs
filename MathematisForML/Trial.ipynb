{
 "cells": [
  {
   "cell_type": "code",
   "execution_count": 1,
   "id": "9ff1c8d5",
   "metadata": {
    "ExecuteTime": {
     "end_time": "2023-11-10T15:48:23.203648Z",
     "start_time": "2023-11-10T15:48:21.988541Z"
    }
   },
   "outputs": [],
   "source": [
    "import numpy as np\n",
    "import pandas as pd\n",
    "import torch\n",
    "# import math\n",
    "# import sympy as sm\n",
    "# from sympy.abc import x\n",
    "# from IPython.display import display, Math\n",
    "# import matplotlib.pyplot as plt\n",
    "# import matplotlib.animation as anim\n",
    "# np.set_printoptions(suppress=True)\n",
    "# %precision 3"
   ]
  },
  {
   "cell_type": "code",
   "execution_count": 2,
   "id": "d850c848",
   "metadata": {},
   "outputs": [
    {
     "name": "stdout",
     "output_type": "stream",
     "text": [
      "^C\n",
      "Note: you may need to restart the kernel to use updated packages.\n"
     ]
    }
   ],
   "source": [
    "%pip install torchvision"
   ]
  }
 ],
 "metadata": {
  "kernelspec": {
   "display_name": "Python 3 (ipykernel)",
   "language": "python",
   "name": "python3"
  },
  "language_info": {
   "codemirror_mode": {
    "name": "ipython",
    "version": 3
   },
   "file_extension": ".py",
   "mimetype": "text/x-python",
   "name": "python",
   "nbconvert_exporter": "python",
   "pygments_lexer": "ipython3",
   "version": "3.9.16"
  }
 },
 "nbformat": 4,
 "nbformat_minor": 5
}
