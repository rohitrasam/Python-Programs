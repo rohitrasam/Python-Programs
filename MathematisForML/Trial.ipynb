{
 "cells": [
  {
   "cell_type": "code",
   "execution_count": 3,
   "id": "9ff1c8d5",
   "metadata": {
    "ExecuteTime": {
     "end_time": "2023-10-19T12:43:27.883778Z",
     "start_time": "2023-10-19T12:43:27.343650Z"
    }
   },
   "outputs": [],
   "source": [
    "import numpy as np"
   ]
  },
  {
   "cell_type": "code",
   "execution_count": 25,
   "id": "31aed37d",
   "metadata": {},
   "outputs": [
    {
     "name": "stdout",
     "output_type": "stream",
     "text": [
      "[ 2 -3 -1]\n",
      "[[ 1.  -0.5  1.5]\n",
      " [-0.   1.  -0.8]\n",
      " [ 0.   0.  -3.5]]\n",
      "[ 2 -3  5]\n"
     ]
    }
   ],
   "source": [
    "a = np.array([[2, -1, 3],\n",
    "    [-4, -3, -2],\n",
    "    [3, 1, -1]], dtype=float)\n",
    "\n",
    "b = np.array([5, 8, 4])\n",
    " \n",
    "x = np.zeros_like(b)\n",
    "\n",
    "if a[0, 0] != 1:\n",
    "    b[0] /= a[0, 0]\n",
    "    a[0, :] /= a[0, 0]\n",
    "\n",
    "b[1] -= a[1, 0] * b[0]\n",
    "a[1, :] -= a[1, 0] * a[0, :]\n",
    "b[2] -= a[2, 0] * b[0]\n",
    "a[2, :] -= a[2, 0] * a[0, :]\n",
    "\n",
    "\n",
    "if a[1, 0] != 1:\n",
    "    b[1] /= a[1, 1]\n",
    "    a[1, :] /= a[1, 1]\n",
    "\n",
    "b[2] -= a[2, 1] * b[1]\n",
    "a[2, :] -= a[2, 1] * a[1, :]\n",
    "\n",
    "x[2] = b[2] / a[2, 2]\n",
    "x[1] = (b[1] - x[2] * a[1, 2]) / a[1, 1]\n",
    "x[0] = (b[0] - x[1] * a[0, 1] - x[2] * a[0, 2]) / a[0, 0]\n",
    "\n",
    "print(f\"{x}\\n{a}\\n{b}\")\n",
    "\n"
   ]
  }
 ],
 "metadata": {
  "kernelspec": {
   "display_name": "Python 3 (ipykernel)",
   "language": "python",
   "name": "python3"
  },
  "language_info": {
   "codemirror_mode": {
    "name": "ipython",
    "version": 3
   },
   "file_extension": ".py",
   "mimetype": "text/x-python",
   "name": "python",
   "nbconvert_exporter": "python",
   "pygments_lexer": "ipython3",
   "version": "3.9.16"
  }
 },
 "nbformat": 4,
 "nbformat_minor": 5
}
