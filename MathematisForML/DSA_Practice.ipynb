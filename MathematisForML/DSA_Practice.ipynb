{
 "cells": [
  {
   "cell_type": "code",
   "execution_count": null,
   "metadata": {
    "colab": {
     "base_uri": "https://localhost:8080/"
    },
    "id": "1PyUXbH4AL4P",
    "outputId": "7bfad499-ac1a-40f9-acdc-be4becf7328b"
   },
   "outputs": [
    {
     "name": "stdout",
     "output_type": "stream",
     "text": [
      "['C', ' C++', ' Java, Python, Scala']\n"
     ]
    },
    {
     "data": {
      "text/plain": [
       "[1, 2, 3, 4, 5, 6, 7, 8, 9, 10, 11, 12, 13, 14, 15, 16, 17, 18, 19]"
      ]
     },
     "execution_count": 2,
     "metadata": {},
     "output_type": "execute_result"
    }
   ],
   "source": [
    "l = 'C, C++, Java, Python, Scala'\n",
    "print(l.split(',', 2))\n"
   ]
  },
  {
   "cell_type": "markdown",
   "metadata": {
    "id": "bRHFQD2sGnAy"
   },
   "source": [
    "# Bubble sort"
   ]
  },
  {
   "cell_type": "code",
   "execution_count": null,
   "metadata": {
    "id": "1tt3FRSdJz9K"
   },
   "outputs": [],
   "source": [
    "def bubble_sort(arr):\n",
    "    for i in range(len(arr)):\n",
    "        for j in range(len(arr) - i - 1):\n",
    "            if arr[j] > arr[j+1]:\n",
    "                arr[j], arr[j+1] = arr[j+1], arr[j]\n",
    "    return arr"
   ]
  },
  {
   "cell_type": "code",
   "execution_count": null,
   "metadata": {
    "colab": {
     "base_uri": "https://localhost:8080/"
    },
    "id": "rRtQGt8ELDb3",
    "outputId": "0319435f-872f-4f3b-b01d-5b676c175b76"
   },
   "outputs": [
    {
     "name": "stdout",
     "output_type": "stream",
     "text": [
      "[1, 2, 3, 4, 5, 6, 7, 8, 9]\n"
     ]
    }
   ],
   "source": [
    "my_list = [2, 1, 7, 6, 5, 3, 4, 9, 8]\n",
    "print(bubble_sort(my_list))"
   ]
  },
  {
   "cell_type": "markdown",
   "metadata": {
    "id": "aelmfwjXLGJK"
   },
   "source": [
    "## Selection sort"
   ]
  },
  {
   "cell_type": "code",
   "execution_count": null,
   "metadata": {
    "id": "wqGONGwHLMeX"
   },
   "outputs": [],
   "source": [
    "def selection_sort(arr):\n",
    "    for i in range(len(arr)):\n",
    "        min_index = i\n",
    "        for j in range(i+1, len(arr)):\n",
    "            if arr[min_index] > arr[j]:\n",
    "                min_index = j\n",
    "            arr[min_index], arr[i] = arr[i], arr[min_index]\n",
    "    return arr"
   ]
  },
  {
   "cell_type": "code",
   "execution_count": null,
   "metadata": {
    "colab": {
     "base_uri": "https://localhost:8080/"
    },
    "id": "8iINDtbJMAQm",
    "outputId": "03882316-28bd-4b65-b923-4e1af257c5d7"
   },
   "outputs": [
    {
     "name": "stdout",
     "output_type": "stream",
     "text": [
      "[1, 2, 3, 4, 5, 6, 7, 8, 9]\n"
     ]
    }
   ],
   "source": [
    "my_list = [2, 1, 7, 6, 5, 3, 4, 9, 8]\n",
    "print(selection_sort(my_list))"
   ]
  },
  {
   "cell_type": "markdown",
   "metadata": {
    "id": "9d8P0qzhkUbO"
   },
   "source": [
    "# Insertion sort"
   ]
  },
  {
   "cell_type": "code",
   "execution_count": null,
   "metadata": {
    "id": "WHgsDiU-MBwV"
   },
   "outputs": [],
   "source": [
    "def insertion_sort(arr):\n",
    "    for i in range(1, len(arr)):\n",
    "        j = i\n",
    "        while arr[j] < arr[j-1] and j > 0:\n",
    "            arr[j], arr[j-1] = arr[j-1], arr[j]\n",
    "            j -= 1\n",
    "\n",
    "    return arr"
   ]
  },
  {
   "cell_type": "code",
   "execution_count": null,
   "metadata": {
    "colab": {
     "base_uri": "https://localhost:8080/"
    },
    "id": "lj09dj24M2ui",
    "outputId": "c0ccad93-fd29-4d35-cef4-b50f162de3ba"
   },
   "outputs": [
    {
     "name": "stdout",
     "output_type": "stream",
     "text": [
      "[1, 2, 3, 4, 5, 6, 7, 8, 9]\n"
     ]
    }
   ],
   "source": [
    "my_list = [2, 1, 7, 6, 5, 3, 4, 9, 8]\n",
    "print(insertion_sort(my_list))\n"
   ]
  },
  {
   "cell_type": "markdown",
   "metadata": {
    "id": "XJZvth1ukZLP"
   },
   "source": [
    "# Merge sort"
   ]
  },
  {
   "cell_type": "code",
   "execution_count": null,
   "metadata": {
    "id": "AFB77RMtkbro"
   },
   "outputs": [],
   "source": [
    "def merge_sort(arr):\n",
    "\n",
    "    if len(arr) > 1:\n",
    "        left = merge_sort(arr[:len(arr)//2])\n",
    "        right = merge_sort(arr[len(arr)//2:])\n",
    "\n",
    "        i = 0\n",
    "        j = 0\n",
    "        k = 0\n",
    "\n",
    "        while i < len(left) and j < len(right):\n",
    "            if left[i] < right[j]:\n",
    "                arr[k] = left[i]\n",
    "                i += 1\n",
    "            else:\n",
    "                arr[k] = right[j]\n",
    "                j += 1\n",
    "            k += 1\n",
    "\n",
    "        while i < len(left):\n",
    "            arr[k] = left[i]\n",
    "            i += 1\n",
    "            k += 1\n",
    "\n",
    "        while j < len(right):\n",
    "            arr[k] = right[j]\n",
    "            j += 1\n",
    "            k +=1\n",
    "\n",
    "    return arr\n"
   ]
  },
  {
   "cell_type": "code",
   "execution_count": null,
   "metadata": {
    "colab": {
     "base_uri": "https://localhost:8080/"
    },
    "id": "Fd8VSH-glqtq",
    "outputId": "72dea399-e8a8-4047-88b6-429ea337fbb2"
   },
   "outputs": [
    {
     "data": {
      "text/plain": [
       "[1, 2, 3, 4, 5, 6, 7, 8, 9]"
      ]
     },
     "execution_count": 3,
     "metadata": {},
     "output_type": "execute_result"
    }
   ],
   "source": [
    "my_list = [2, 1, 7, 6, 5, 3, 4, 9, 8]\n",
    "merge_sort(my_list)"
   ]
  },
  {
   "cell_type": "markdown",
   "metadata": {
    "id": "oxLwEkTzsr6g"
   },
   "source": [
    "# Quick Sort"
   ]
  },
  {
   "cell_type": "code",
   "execution_count": null,
   "metadata": {
    "id": "sLbEuiwosvwp"
   },
   "outputs": [],
   "source": [
    "def quick_sort(arr, left, right):\n",
    "\n",
    "    if left < right:\n",
    "        pivot = partition(arr, left, right)\n",
    "        quick_sort(arr, left, pivot-1)\n",
    "        quick_sort(arr, pivot+1, right)\n",
    "\n",
    "def partition(arr, left, right):\n",
    "\n",
    "    i = left\n",
    "    j = right - 1\n",
    "    pivot = arr[right]\n",
    "\n",
    "    while i < j:\n",
    "        while i < right and arr[i] < pivot:\n",
    "            i += 1\n",
    "\n",
    "        while j > left and arr[j] >= pivot:\n",
    "            j -= 1\n",
    "\n",
    "        if i < j:\n",
    "            arr[i], arr[j] = arr[j], arr[i]\n",
    "\n",
    "    if arr[i] > pivot:\n",
    "        arr[i], arr[right] = arr[right], arr[i]\n",
    "\n",
    "    return i"
   ]
  },
  {
   "cell_type": "code",
   "execution_count": null,
   "metadata": {
    "colab": {
     "base_uri": "https://localhost:8080/"
    },
    "id": "h6UZeJc00sfS",
    "outputId": "a50e40d6-7466-4235-d923-6c017dbb34f8"
   },
   "outputs": [
    {
     "name": "stdout",
     "output_type": "stream",
     "text": [
      "[1, 2, 3, 4, 5, 6, 7, 8, 9]\n"
     ]
    }
   ],
   "source": [
    "my_list = [2, 1, 7, 6, 5, 3, 4, 9, 8]\n",
    "quick_sort(my_list, 0, len(my_list)-1)\n",
    "print(my_list)"
   ]
  },
  {
   "cell_type": "code",
   "execution_count": 2,
   "metadata": {
    "colab": {
     "base_uri": "https://localhost:8080/"
    },
    "id": "ixxtHcCk06mI",
    "outputId": "75b93579-3a0d-4c64-dff6-3166e5820435"
   },
   "outputs": [
    {
     "data": {
      "text/plain": [
       "-0.0006165195276669477"
      ]
     },
     "execution_count": 2,
     "metadata": {},
     "output_type": "execute_result"
    }
   ],
   "source": [
    "from math import cos\n",
    "x = 0.62451171875\n",
    "eval('cos(x) - 1.3 * x', {'cos': cos, 'x': x})\n",
    "# s = 'cos(x) - 1.3 * x'\n",
    "# s.split('-')"
   ]
  },
  {
   "cell_type": "code",
   "execution_count": null,
   "metadata": {
    "id": "xHZQ7N_yCzKL"
   },
   "outputs": [],
   "source": [
    "from math import cos, exp, sin"
   ]
  },
  {
   "cell_type": "markdown",
   "metadata": {
    "id": "kEfytqsIA4OH"
   },
   "source": [
    "### Bi-section method"
   ]
  },
  {
   "cell_type": "code",
   "execution_count": 1,
   "metadata": {
    "ExecuteTime": {
     "end_time": "2023-06-24T12:45:51.159178Z",
     "start_time": "2023-06-24T12:44:42.463139Z"
    },
    "colab": {
     "base_uri": "https://localhost:8080/",
     "height": 570
    },
    "id": "qQGStyqcA8XL",
    "outputId": "38c2171d-d453-4a2f-ce06-d32702a3222b"
   },
   "outputs": [
    {
     "name": "stdout",
     "output_type": "stream",
     "text": [
      "1st guess: 0\n",
      "2nd guess: 1\n",
      "Accuracy: 0.001\n",
      "1st guess: 1\n",
      "2nd guess: 2\n",
      "Accuracy: 0.001\n",
      "1st guess: 2\n",
      "2nd guess: 3\n",
      "Accuracy: 0.001\n",
      "1st guess: 3\n",
      "2nd guess: 2\n",
      "Accuracy: 0.001\n",
      "1st guess: 0.1\n",
      "2nd guess: 2\n",
      "Accuracy: 0.001\n",
      "1st guess: 0.1\n",
      "2nd guess: 0.2\n",
      "Accuracy: 0.001\n",
      "1st guess: 26\n",
      "2nd guess: 23\n",
      "Accuracy: 0.0001\n"
     ]
    },
    {
     "ename": "KeyboardInterrupt",
     "evalue": "Interrupted by user",
     "output_type": "error",
     "traceback": [
      "\u001b[1;31m---------------------------------------------------------------------------\u001b[0m",
      "\u001b[1;31mKeyboardInterrupt\u001b[0m                         Traceback (most recent call last)",
      "Cell \u001b[1;32mIn[1], line 37\u001b[0m\n\u001b[0;32m     33\u001b[0m         x3 \u001b[38;5;241m=\u001b[39m (x2 \u001b[38;5;241m+\u001b[39m x1) \u001b[38;5;241m/\u001b[39m \u001b[38;5;241m2\u001b[39m\n\u001b[0;32m     35\u001b[0m     \u001b[38;5;28mprint\u001b[39m(x3)\n\u001b[1;32m---> 37\u001b[0m \u001b[43mstart1\u001b[49m\u001b[43m(\u001b[49m\u001b[43m)\u001b[49m\n",
      "Cell \u001b[1;32mIn[1], line 20\u001b[0m, in \u001b[0;36mstart1\u001b[1;34m()\u001b[0m\n\u001b[0;32m     17\u001b[0m f2 \u001b[38;5;241m=\u001b[39m f(x2)\n\u001b[0;32m     19\u001b[0m \u001b[38;5;28;01mwhile\u001b[39;00m f1 \u001b[38;5;241m*\u001b[39m f2 \u001b[38;5;241m>\u001b[39m \u001b[38;5;241m0\u001b[39m:\n\u001b[1;32m---> 20\u001b[0m     \u001b[43mstart1\u001b[49m\u001b[43m(\u001b[49m\u001b[43m)\u001b[49m\n\u001b[0;32m     22\u001b[0m x3 \u001b[38;5;241m=\u001b[39m (x2 \u001b[38;5;241m+\u001b[39m x1) \u001b[38;5;241m/\u001b[39m \u001b[38;5;241m2\u001b[39m\n\u001b[0;32m     23\u001b[0m \u001b[38;5;28;01mwhile\u001b[39;00m \u001b[38;5;28mabs\u001b[39m(x2 \u001b[38;5;241m-\u001b[39m x1) \u001b[38;5;241m>\u001b[39m accuracy:\n",
      "Cell \u001b[1;32mIn[1], line 20\u001b[0m, in \u001b[0;36mstart1\u001b[1;34m()\u001b[0m\n\u001b[0;32m     17\u001b[0m f2 \u001b[38;5;241m=\u001b[39m f(x2)\n\u001b[0;32m     19\u001b[0m \u001b[38;5;28;01mwhile\u001b[39;00m f1 \u001b[38;5;241m*\u001b[39m f2 \u001b[38;5;241m>\u001b[39m \u001b[38;5;241m0\u001b[39m:\n\u001b[1;32m---> 20\u001b[0m     \u001b[43mstart1\u001b[49m\u001b[43m(\u001b[49m\u001b[43m)\u001b[49m\n\u001b[0;32m     22\u001b[0m x3 \u001b[38;5;241m=\u001b[39m (x2 \u001b[38;5;241m+\u001b[39m x1) \u001b[38;5;241m/\u001b[39m \u001b[38;5;241m2\u001b[39m\n\u001b[0;32m     23\u001b[0m \u001b[38;5;28;01mwhile\u001b[39;00m \u001b[38;5;28mabs\u001b[39m(x2 \u001b[38;5;241m-\u001b[39m x1) \u001b[38;5;241m>\u001b[39m accuracy:\n",
      "    \u001b[1;31m[... skipping similar frames: start1 at line 20 (4 times)]\u001b[0m\n",
      "Cell \u001b[1;32mIn[1], line 20\u001b[0m, in \u001b[0;36mstart1\u001b[1;34m()\u001b[0m\n\u001b[0;32m     17\u001b[0m f2 \u001b[38;5;241m=\u001b[39m f(x2)\n\u001b[0;32m     19\u001b[0m \u001b[38;5;28;01mwhile\u001b[39;00m f1 \u001b[38;5;241m*\u001b[39m f2 \u001b[38;5;241m>\u001b[39m \u001b[38;5;241m0\u001b[39m:\n\u001b[1;32m---> 20\u001b[0m     \u001b[43mstart1\u001b[49m\u001b[43m(\u001b[49m\u001b[43m)\u001b[49m\n\u001b[0;32m     22\u001b[0m x3 \u001b[38;5;241m=\u001b[39m (x2 \u001b[38;5;241m+\u001b[39m x1) \u001b[38;5;241m/\u001b[39m \u001b[38;5;241m2\u001b[39m\n\u001b[0;32m     23\u001b[0m \u001b[38;5;28;01mwhile\u001b[39;00m \u001b[38;5;28mabs\u001b[39m(x2 \u001b[38;5;241m-\u001b[39m x1) \u001b[38;5;241m>\u001b[39m accuracy:\n",
      "Cell \u001b[1;32mIn[1], line 8\u001b[0m, in \u001b[0;36mstart1\u001b[1;34m()\u001b[0m\n\u001b[0;32m      7\u001b[0m \u001b[38;5;28;01mdef\u001b[39;00m \u001b[38;5;21mstart1\u001b[39m():\n\u001b[1;32m----> 8\u001b[0m     x1 \u001b[38;5;241m=\u001b[39m \u001b[38;5;28mfloat\u001b[39m(\u001b[38;5;28;43minput\u001b[39;49m\u001b[43m(\u001b[49m\u001b[38;5;124;43m\"\u001b[39;49m\u001b[38;5;124;43m1st guess: \u001b[39;49m\u001b[38;5;124;43m\"\u001b[39;49m\u001b[43m)\u001b[49m)\n\u001b[0;32m      9\u001b[0m     x2 \u001b[38;5;241m=\u001b[39m \u001b[38;5;28mfloat\u001b[39m(\u001b[38;5;28minput\u001b[39m(\u001b[38;5;124m\"\u001b[39m\u001b[38;5;124m2nd guess: \u001b[39m\u001b[38;5;124m\"\u001b[39m))\n\u001b[0;32m     10\u001b[0m     accuracy \u001b[38;5;241m=\u001b[39m \u001b[38;5;28mfloat\u001b[39m(\u001b[38;5;28minput\u001b[39m(\u001b[38;5;124m\"\u001b[39m\u001b[38;5;124mAccuracy: \u001b[39m\u001b[38;5;124m\"\u001b[39m))\n",
      "File \u001b[1;32m~\\anaconda3\\lib\\site-packages\\ipykernel\\kernelbase.py:1175\u001b[0m, in \u001b[0;36mKernel.raw_input\u001b[1;34m(self, prompt)\u001b[0m\n\u001b[0;32m   1171\u001b[0m \u001b[38;5;28;01mif\u001b[39;00m \u001b[38;5;129;01mnot\u001b[39;00m \u001b[38;5;28mself\u001b[39m\u001b[38;5;241m.\u001b[39m_allow_stdin:\n\u001b[0;32m   1172\u001b[0m     \u001b[38;5;28;01mraise\u001b[39;00m StdinNotImplementedError(\n\u001b[0;32m   1173\u001b[0m         \u001b[38;5;124m\"\u001b[39m\u001b[38;5;124mraw_input was called, but this frontend does not support input requests.\u001b[39m\u001b[38;5;124m\"\u001b[39m\n\u001b[0;32m   1174\u001b[0m     )\n\u001b[1;32m-> 1175\u001b[0m \u001b[38;5;28;01mreturn\u001b[39;00m \u001b[38;5;28;43mself\u001b[39;49m\u001b[38;5;241;43m.\u001b[39;49m\u001b[43m_input_request\u001b[49m\u001b[43m(\u001b[49m\n\u001b[0;32m   1176\u001b[0m \u001b[43m    \u001b[49m\u001b[38;5;28;43mstr\u001b[39;49m\u001b[43m(\u001b[49m\u001b[43mprompt\u001b[49m\u001b[43m)\u001b[49m\u001b[43m,\u001b[49m\n\u001b[0;32m   1177\u001b[0m \u001b[43m    \u001b[49m\u001b[38;5;28;43mself\u001b[39;49m\u001b[38;5;241;43m.\u001b[39;49m\u001b[43m_parent_ident\u001b[49m\u001b[43m[\u001b[49m\u001b[38;5;124;43m\"\u001b[39;49m\u001b[38;5;124;43mshell\u001b[39;49m\u001b[38;5;124;43m\"\u001b[39;49m\u001b[43m]\u001b[49m\u001b[43m,\u001b[49m\n\u001b[0;32m   1178\u001b[0m \u001b[43m    \u001b[49m\u001b[38;5;28;43mself\u001b[39;49m\u001b[38;5;241;43m.\u001b[39;49m\u001b[43mget_parent\u001b[49m\u001b[43m(\u001b[49m\u001b[38;5;124;43m\"\u001b[39;49m\u001b[38;5;124;43mshell\u001b[39;49m\u001b[38;5;124;43m\"\u001b[39;49m\u001b[43m)\u001b[49m\u001b[43m,\u001b[49m\n\u001b[0;32m   1179\u001b[0m \u001b[43m    \u001b[49m\u001b[43mpassword\u001b[49m\u001b[38;5;241;43m=\u001b[39;49m\u001b[38;5;28;43;01mFalse\u001b[39;49;00m\u001b[43m,\u001b[49m\n\u001b[0;32m   1180\u001b[0m \u001b[43m\u001b[49m\u001b[43m)\u001b[49m\n",
      "File \u001b[1;32m~\\anaconda3\\lib\\site-packages\\ipykernel\\kernelbase.py:1217\u001b[0m, in \u001b[0;36mKernel._input_request\u001b[1;34m(self, prompt, ident, parent, password)\u001b[0m\n\u001b[0;32m   1214\u001b[0m             \u001b[38;5;28;01mbreak\u001b[39;00m\n\u001b[0;32m   1215\u001b[0m \u001b[38;5;28;01mexcept\u001b[39;00m \u001b[38;5;167;01mKeyboardInterrupt\u001b[39;00m:\n\u001b[0;32m   1216\u001b[0m     \u001b[38;5;66;03m# re-raise KeyboardInterrupt, to truncate traceback\u001b[39;00m\n\u001b[1;32m-> 1217\u001b[0m     \u001b[38;5;28;01mraise\u001b[39;00m \u001b[38;5;167;01mKeyboardInterrupt\u001b[39;00m(\u001b[38;5;124m\"\u001b[39m\u001b[38;5;124mInterrupted by user\u001b[39m\u001b[38;5;124m\"\u001b[39m) \u001b[38;5;28;01mfrom\u001b[39;00m \u001b[38;5;28;01mNone\u001b[39;00m\n\u001b[0;32m   1218\u001b[0m \u001b[38;5;28;01mexcept\u001b[39;00m \u001b[38;5;167;01mException\u001b[39;00m:\n\u001b[0;32m   1219\u001b[0m     \u001b[38;5;28mself\u001b[39m\u001b[38;5;241m.\u001b[39mlog\u001b[38;5;241m.\u001b[39mwarning(\u001b[38;5;124m\"\u001b[39m\u001b[38;5;124mInvalid Message:\u001b[39m\u001b[38;5;124m\"\u001b[39m, exc_info\u001b[38;5;241m=\u001b[39m\u001b[38;5;28;01mTrue\u001b[39;00m)\n",
      "\u001b[1;31mKeyboardInterrupt\u001b[0m: Interrupted by user"
     ]
    }
   ],
   "source": [
    "\n",
    "# f = lambda x : x * exp(x) - 3.1 * cos(x)\n",
    "f = lambda x : -0.9 * x**2 + 1.7 * x + 2.5\n",
    "# f = lambda x: x**2 + 4*x + 4\n",
    "\n",
    "if __name__ == '__main__':\n",
    "\n",
    "    def start1():\n",
    "        x1 = float(input(\"1st guess: \"))\n",
    "        x2 = float(input(\"2nd guess: \"))\n",
    "        accuracy = float(input(\"Accuracy: \"))\n",
    "\n",
    "        if x1 == None and x2 == None:\n",
    "            x1 = 0\n",
    "            x2 = 1\n",
    "\n",
    "        f1 = f(x1)\n",
    "        f2 = f(x2)\n",
    "\n",
    "        while f1 * f2 > 0:\n",
    "            start1()\n",
    "\n",
    "        x3 = (x2 + x1) / 2\n",
    "        while abs(x2 - x1) > accuracy:\n",
    "\n",
    "            f3 = f(x3)\n",
    "\n",
    "            if f3 * f1 > 0:\n",
    "                x1 = x3\n",
    "                f1 = f3\n",
    "            else:\n",
    "                x2 = x3\n",
    "                f2 = f3\n",
    "            x3 = (x2 + x1) / 2\n",
    "\n",
    "        print(x3)\n",
    "\n",
    "    start1()\n"
   ]
  },
  {
   "cell_type": "markdown",
   "metadata": {
    "id": "ksKioegNHldr"
   },
   "source": [
    "## Newton-Raphson method"
   ]
  },
  {
   "cell_type": "code",
   "execution_count": 8,
   "metadata": {
    "ExecuteTime": {
     "end_time": "2023-06-30T09:55:10.099663Z",
     "start_time": "2023-06-30T09:52:15.955799Z"
    },
    "colab": {
     "base_uri": "https://localhost:8080/"
    },
    "id": "moXXJfdvHqzh",
    "outputId": "8891c971-2645-4cfa-c79a-0fbe4f5afbc3"
   },
   "outputs": [
    {
     "name": "stdout",
     "output_type": "stream",
     "text": [
      "Enter initail guess: 1\n",
      "Accuracy: 0.0001\n",
      "Enter initail guess: 0.5\n",
      "Accuracy: 0.00001\n",
      "Enter initail guess: 2\n",
      "Accuracy: 0.0001\n",
      "1.0697790451197482\n",
      "Enter initail guess: 2\n",
      "Accuracy: 0.0000000000001\n",
      "1.0697790394785875\n"
     ]
    },
    {
     "ename": "KeyboardInterrupt",
     "evalue": "Interrupted by user",
     "output_type": "error",
     "traceback": [
      "\u001b[1;31m---------------------------------------------------------------------------\u001b[0m",
      "\u001b[1;31mKeyboardInterrupt\u001b[0m                         Traceback (most recent call last)",
      "Cell \u001b[1;32mIn[8], line 35\u001b[0m\n\u001b[0;32m     32\u001b[0m         x2 \u001b[38;5;241m=\u001b[39m x1 \u001b[38;5;241m-\u001b[39m get_x(x1)\n\u001b[0;32m     34\u001b[0m     \u001b[38;5;28mprint\u001b[39m(x2)\n\u001b[1;32m---> 35\u001b[0m \u001b[43mstart2\u001b[49m\u001b[43m(\u001b[49m\u001b[43m)\u001b[49m\n",
      "Cell \u001b[1;32mIn[8], line 25\u001b[0m, in \u001b[0;36mstart2\u001b[1;34m()\u001b[0m\n\u001b[0;32m     23\u001b[0m converge \u001b[38;5;241m=\u001b[39m (f(x1) \u001b[38;5;241m-\u001b[39m ddf(x1)) \u001b[38;5;241m/\u001b[39m df(x1)\u001b[38;5;241m*\u001b[39m\u001b[38;5;241m*\u001b[39m\u001b[38;5;241m2\u001b[39m\n\u001b[0;32m     24\u001b[0m \u001b[38;5;28;01mwhile\u001b[39;00m converge \u001b[38;5;241m>\u001b[39m \u001b[38;5;241m1\u001b[39m:\n\u001b[1;32m---> 25\u001b[0m     \u001b[43mstart2\u001b[49m\u001b[43m(\u001b[49m\u001b[43m)\u001b[49m\n\u001b[0;32m     27\u001b[0m x2 \u001b[38;5;241m=\u001b[39m x1 \u001b[38;5;241m-\u001b[39m get_x(x1)\n\u001b[0;32m     29\u001b[0m \u001b[38;5;28;01mwhile\u001b[39;00m \u001b[38;5;28mabs\u001b[39m(x2 \u001b[38;5;241m-\u001b[39m x1) \u001b[38;5;241m>\u001b[39m acc:\n",
      "Cell \u001b[1;32mIn[8], line 25\u001b[0m, in \u001b[0;36mstart2\u001b[1;34m()\u001b[0m\n\u001b[0;32m     23\u001b[0m converge \u001b[38;5;241m=\u001b[39m (f(x1) \u001b[38;5;241m-\u001b[39m ddf(x1)) \u001b[38;5;241m/\u001b[39m df(x1)\u001b[38;5;241m*\u001b[39m\u001b[38;5;241m*\u001b[39m\u001b[38;5;241m2\u001b[39m\n\u001b[0;32m     24\u001b[0m \u001b[38;5;28;01mwhile\u001b[39;00m converge \u001b[38;5;241m>\u001b[39m \u001b[38;5;241m1\u001b[39m:\n\u001b[1;32m---> 25\u001b[0m     \u001b[43mstart2\u001b[49m\u001b[43m(\u001b[49m\u001b[43m)\u001b[49m\n\u001b[0;32m     27\u001b[0m x2 \u001b[38;5;241m=\u001b[39m x1 \u001b[38;5;241m-\u001b[39m get_x(x1)\n\u001b[0;32m     29\u001b[0m \u001b[38;5;28;01mwhile\u001b[39;00m \u001b[38;5;28mabs\u001b[39m(x2 \u001b[38;5;241m-\u001b[39m x1) \u001b[38;5;241m>\u001b[39m acc:\n",
      "Cell \u001b[1;32mIn[8], line 21\u001b[0m, in \u001b[0;36mstart2\u001b[1;34m()\u001b[0m\n\u001b[0;32m     20\u001b[0m \u001b[38;5;28;01mdef\u001b[39;00m \u001b[38;5;21mstart2\u001b[39m():\n\u001b[1;32m---> 21\u001b[0m     x1 \u001b[38;5;241m=\u001b[39m \u001b[38;5;28mfloat\u001b[39m(\u001b[38;5;28;43minput\u001b[39;49m\u001b[43m(\u001b[49m\u001b[38;5;124;43m\"\u001b[39;49m\u001b[38;5;124;43mEnter initail guess: \u001b[39;49m\u001b[38;5;124;43m\"\u001b[39;49m\u001b[43m)\u001b[49m)\n\u001b[0;32m     22\u001b[0m     acc \u001b[38;5;241m=\u001b[39m \u001b[38;5;28mfloat\u001b[39m(\u001b[38;5;28minput\u001b[39m(\u001b[38;5;124m\"\u001b[39m\u001b[38;5;124mAccuracy: \u001b[39m\u001b[38;5;124m\"\u001b[39m))\n\u001b[0;32m     23\u001b[0m     converge \u001b[38;5;241m=\u001b[39m (f(x1) \u001b[38;5;241m-\u001b[39m ddf(x1)) \u001b[38;5;241m/\u001b[39m df(x1)\u001b[38;5;241m*\u001b[39m\u001b[38;5;241m*\u001b[39m\u001b[38;5;241m2\u001b[39m\n",
      "File \u001b[1;32m~\\anaconda3\\lib\\site-packages\\ipykernel\\kernelbase.py:1175\u001b[0m, in \u001b[0;36mKernel.raw_input\u001b[1;34m(self, prompt)\u001b[0m\n\u001b[0;32m   1171\u001b[0m \u001b[38;5;28;01mif\u001b[39;00m \u001b[38;5;129;01mnot\u001b[39;00m \u001b[38;5;28mself\u001b[39m\u001b[38;5;241m.\u001b[39m_allow_stdin:\n\u001b[0;32m   1172\u001b[0m     \u001b[38;5;28;01mraise\u001b[39;00m StdinNotImplementedError(\n\u001b[0;32m   1173\u001b[0m         \u001b[38;5;124m\"\u001b[39m\u001b[38;5;124mraw_input was called, but this frontend does not support input requests.\u001b[39m\u001b[38;5;124m\"\u001b[39m\n\u001b[0;32m   1174\u001b[0m     )\n\u001b[1;32m-> 1175\u001b[0m \u001b[38;5;28;01mreturn\u001b[39;00m \u001b[38;5;28;43mself\u001b[39;49m\u001b[38;5;241;43m.\u001b[39;49m\u001b[43m_input_request\u001b[49m\u001b[43m(\u001b[49m\n\u001b[0;32m   1176\u001b[0m \u001b[43m    \u001b[49m\u001b[38;5;28;43mstr\u001b[39;49m\u001b[43m(\u001b[49m\u001b[43mprompt\u001b[49m\u001b[43m)\u001b[49m\u001b[43m,\u001b[49m\n\u001b[0;32m   1177\u001b[0m \u001b[43m    \u001b[49m\u001b[38;5;28;43mself\u001b[39;49m\u001b[38;5;241;43m.\u001b[39;49m\u001b[43m_parent_ident\u001b[49m\u001b[43m[\u001b[49m\u001b[38;5;124;43m\"\u001b[39;49m\u001b[38;5;124;43mshell\u001b[39;49m\u001b[38;5;124;43m\"\u001b[39;49m\u001b[43m]\u001b[49m\u001b[43m,\u001b[49m\n\u001b[0;32m   1178\u001b[0m \u001b[43m    \u001b[49m\u001b[38;5;28;43mself\u001b[39;49m\u001b[38;5;241;43m.\u001b[39;49m\u001b[43mget_parent\u001b[49m\u001b[43m(\u001b[49m\u001b[38;5;124;43m\"\u001b[39;49m\u001b[38;5;124;43mshell\u001b[39;49m\u001b[38;5;124;43m\"\u001b[39;49m\u001b[43m)\u001b[49m\u001b[43m,\u001b[49m\n\u001b[0;32m   1179\u001b[0m \u001b[43m    \u001b[49m\u001b[43mpassword\u001b[49m\u001b[38;5;241;43m=\u001b[39;49m\u001b[38;5;28;43;01mFalse\u001b[39;49;00m\u001b[43m,\u001b[49m\n\u001b[0;32m   1180\u001b[0m \u001b[43m\u001b[49m\u001b[43m)\u001b[49m\n",
      "File \u001b[1;32m~\\anaconda3\\lib\\site-packages\\ipykernel\\kernelbase.py:1217\u001b[0m, in \u001b[0;36mKernel._input_request\u001b[1;34m(self, prompt, ident, parent, password)\u001b[0m\n\u001b[0;32m   1214\u001b[0m             \u001b[38;5;28;01mbreak\u001b[39;00m\n\u001b[0;32m   1215\u001b[0m \u001b[38;5;28;01mexcept\u001b[39;00m \u001b[38;5;167;01mKeyboardInterrupt\u001b[39;00m:\n\u001b[0;32m   1216\u001b[0m     \u001b[38;5;66;03m# re-raise KeyboardInterrupt, to truncate traceback\u001b[39;00m\n\u001b[1;32m-> 1217\u001b[0m     \u001b[38;5;28;01mraise\u001b[39;00m \u001b[38;5;167;01mKeyboardInterrupt\u001b[39;00m(\u001b[38;5;124m\"\u001b[39m\u001b[38;5;124mInterrupted by user\u001b[39m\u001b[38;5;124m\"\u001b[39m) \u001b[38;5;28;01mfrom\u001b[39;00m \u001b[38;5;28;01mNone\u001b[39;00m\n\u001b[0;32m   1218\u001b[0m \u001b[38;5;28;01mexcept\u001b[39;00m \u001b[38;5;167;01mException\u001b[39;00m:\n\u001b[0;32m   1219\u001b[0m     \u001b[38;5;28mself\u001b[39m\u001b[38;5;241m.\u001b[39mlog\u001b[38;5;241m.\u001b[39mwarning(\u001b[38;5;124m\"\u001b[39m\u001b[38;5;124mInvalid Message:\u001b[39m\u001b[38;5;124m\"\u001b[39m, exc_info\u001b[38;5;241m=\u001b[39m\u001b[38;5;28;01mTrue\u001b[39;00m)\n",
      "\u001b[1;31mKeyboardInterrupt\u001b[0m: Interrupted by user"
     ]
    }
   ],
   "source": [
    "from math import exp, cos, sin\n",
    "\n",
    "# f = lambda x: exp(x) * cos(x) -1.4 * sin(x) - 0.8\n",
    "# df = lambda x: exp(x) * (cos(x) - sin(x)) - 1.4 * cos(x)\n",
    "# ddf = lambda x: -2 * exp(x) * sin(x) + 1.4 * sin(x)\n",
    "# f = lambda x: 0.51 * x - sin(x)\n",
    "# df = lambda x: 0.51 - cos(x)\n",
    "# ddf = lambda x: sin(x)\n",
    "f = lambda x: exp(x) * cos(x) - 1.4\n",
    "df = lambda x: exp(x)*(cos(x) - sin(x))\n",
    "ddf = lambda x: -2 * exp(x) * sin(x)\n",
    "# f = lambda x: x**2 + 4*x + 4\n",
    "# df = lambda x: 2*x + 4\n",
    "# ddf = lambda x: 2\n",
    "\n",
    "if __name__ == '__main__':\n",
    "\n",
    "    get_x = lambda x: f(x) / df(x)\n",
    "\n",
    "    def start2():\n",
    "        x1 = float(input(\"Enter initail guess: \"))\n",
    "        acc = float(input(\"Accuracy: \"))\n",
    "        converge = (f(x1) - ddf(x1)) / df(x1)**2\n",
    "        while converge > 1:\n",
    "            start2()\n",
    "\n",
    "        x2 = x1 - get_x(x1)\n",
    "\n",
    "        while abs(x2 - x1) > acc:\n",
    "            x1 = x2\n",
    "\n",
    "            x2 = x1 - get_x(x1)\n",
    "\n",
    "        print(x2)\n",
    "    start2()"
   ]
  },
  {
   "cell_type": "markdown",
   "metadata": {
    "id": "IJGzIyTqBrke"
   },
   "source": [
    "## Successive approximation"
   ]
  },
  {
   "cell_type": "code",
   "execution_count": 4,
   "metadata": {
    "ExecuteTime": {
     "end_time": "2023-06-30T09:50:10.230744Z",
     "start_time": "2023-06-30T09:50:06.629415Z"
    },
    "colab": {
     "base_uri": "https://localhost:8080/",
     "height": 552
    },
    "id": "jFZJREFiBuYX",
    "outputId": "5de18a94-af75-45d0-c5e5-685cec032119"
   },
   "outputs": [
    {
     "name": "stdout",
     "output_type": "stream",
     "text": [
      "Enter initial guess: 2\n",
      "Accuracy: 0.00001\n",
      "0.8377244000976626\n"
     ]
    }
   ],
   "source": [
    "g = lambda x: (x**2 + 6) / 8\n",
    "dg = lambda x: x / 4\n",
    "\n",
    "x1 = 0\n",
    "\n",
    "def start3():\n",
    "    global x1\n",
    "    x1 = float(input(\"Enter initial guess: \"))\n",
    "    global accuracy\n",
    "    accuracy = float(input(\"Accuracy: \"))\n",
    "\n",
    "start3()\n",
    "\n",
    "while dg(x1) > 1:\n",
    "    start3()\n",
    "\n",
    "x2 = g(x1)\n",
    "\n",
    "while abs(x2 - x1) > accuracy:\n",
    "    x1 = x2\n",
    "\n",
    "    x2 = g(x1)\n",
    "\n",
    "print(x2)\n"
   ]
  },
  {
   "cell_type": "markdown",
   "metadata": {
    "id": "szjXVmEYIHsk"
   },
   "source": [
    "## Linked List"
   ]
  },
  {
   "cell_type": "code",
   "execution_count": 3,
   "metadata": {
    "ExecuteTime": {
     "end_time": "2023-06-24T12:47:20.665637Z",
     "start_time": "2023-06-24T12:47:20.629329Z"
    },
    "colab": {
     "base_uri": "https://localhost:8080/"
    },
    "id": "Y_e3iNWHIKg7",
    "outputId": "54b77f53-276f-40f9-efaf-2d3221a49d3d"
   },
   "outputs": [
    {
     "name": "stdout",
     "output_type": "stream",
     "text": [
      "[1, 5, 4, 6]\n",
      "[1, 4, 6]\n",
      "[1, 4, 6, 10]\n",
      "[1, 4, 6, 10, 5]\n",
      "[1, 4, 6, 10, 2, 5]\n"
     ]
    }
   ],
   "source": [
    "class Node:\n",
    "    def __init__(self, data):\n",
    "        self.prev = None\n",
    "        self.data = data\n",
    "        self.next = None\n",
    "\n",
    "class LinkedList:\n",
    "\n",
    "    def __init__(self):\n",
    "        self.head = None\n",
    "        self.tail = None\n",
    "        self.length = 0\n",
    "\n",
    "    def __len__(self):\n",
    "        return self.length\n",
    "\n",
    "    def __str__(self):\n",
    "        return f'[{\", \".join([str(val.data) for val in self])}]'\n",
    "\n",
    "    def __iter__(self):\n",
    "        currentNode = self.head\n",
    "        while currentNode:\n",
    "            yield currentNode\n",
    "\n",
    "            if currentNode.next == self.head:\n",
    "                break\n",
    "            currentNode = currentNode.next\n",
    "\n",
    "    def insert(self, value, index=-1):\n",
    "        newNode = Node(value)\n",
    "        if self.head == None:\n",
    "            self.head = newNode\n",
    "            self.tail = newNode\n",
    "            newNode.next = newNode\n",
    "            newNode.tail = newNode\n",
    "        else:\n",
    "            if index == 0:\n",
    "                newNode.next = self.head\n",
    "                newNode.prev = self.tail\n",
    "                self.head.prev = newNode\n",
    "                self.tail.next = newNode\n",
    "                self.head = newNode\n",
    "            elif index == -1:\n",
    "                newNode.prev = self.tail\n",
    "                newNode.next = self.head\n",
    "                self.tail.next = newNode\n",
    "                self.head.prev = newNode\n",
    "                self.tail = newNode\n",
    "            elif index > 0:\n",
    "                currentNode = self.head\n",
    "                for _ in range(index-1):\n",
    "                    currentNode = currentNode.next\n",
    "\n",
    "                nextNode = currentNode.next\n",
    "                newNode.next = nextNode\n",
    "                newNode.prev = currentNode\n",
    "                currentNode.next = newNode\n",
    "                nextNode.prev = newNode\n",
    "\n",
    "        self.length += 1\n",
    "\n",
    "    def delete(self, index):\n",
    "\n",
    "        if self.head == Node:\n",
    "            return \"List empty\"\n",
    "        else:\n",
    "            if index == 0:\n",
    "                if self.head == self.tail:\n",
    "                    self.head.next = None\n",
    "                    self.head.prev = None\n",
    "                    self.head = None\n",
    "                    self.tail = None\n",
    "                else:\n",
    "                    self.head = self.head.next\n",
    "                    self.head.prev = self.tail\n",
    "                    self.tail.next = self.head\n",
    "            elif index == -1:\n",
    "                if self.head == self.tail:\n",
    "                    self.head.next = None\n",
    "                    self.head.prev = None\n",
    "                    self.head = None\n",
    "                    self.tail = None\n",
    "                else:\n",
    "                    self.tail = self.tail.prev\n",
    "                    self.tail.next = self.head\n",
    "                    self.head.prev = self.tail\n",
    "            elif index > 0:\n",
    "                currentNode = self.head\n",
    "\n",
    "                for _ in range(index-1):\n",
    "                    currentNode = currentNode.next\n",
    "\n",
    "                nextNode = currentNode.next\n",
    "                currentNode.next = nextNode.next\n",
    "                nextNode.next.prev = currentNode\n",
    "\n",
    "            self.length -= 1\n",
    "\n",
    "\n",
    "l = LinkedList()\n",
    "\n",
    "l.insert(1)\n",
    "l.insert(4)\n",
    "l.insert(5, 1)\n",
    "l.insert(6)\n",
    "print(l)\n",
    "l.delete(1)\n",
    "print(l)\n",
    "l.insert(10)\n",
    "print(l)\n",
    "l.insert(5)\n",
    "print(l)\n",
    "l.insert(2, 4)\n",
    "print(l)"
   ]
  },
  {
   "cell_type": "markdown",
   "metadata": {},
   "source": [
    "## Trie"
   ]
  },
  {
   "cell_type": "code",
   "execution_count": 10,
   "metadata": {
    "ExecuteTime": {
     "end_time": "2023-07-21T06:22:07.295731Z",
     "start_time": "2023-07-21T06:22:07.275196Z"
    }
   },
   "outputs": [],
   "source": [
    "class TrieNode():\n",
    "    \n",
    "    def __init__(self):\n",
    "        self.children = {}\n",
    "        self.endOfString = False\n",
    "        \n",
    "class Trie():\n",
    "    \n",
    "    def __init__(self):\n",
    "        self.root = TrieNode()\n",
    "        \n",
    "    def insert(self, word):\n",
    "        current = self.root\n",
    "        for i in word:\n",
    "            ch = i\n",
    "            node = current.children.get(ch)\n",
    "            if not node:\n",
    "                node = TrieNode()\n",
    "                current.children[ch] = node\n",
    "            current = node\n",
    "        current.endOfString = True\n",
    "        print(\"Successfully created\")\n",
    "\n",
    "    def search(self, word):\n",
    "        current = self.root\n",
    "        for ch in word:\n",
    "            node = current.children.get(ch)\n",
    "            if not node:\n",
    "                return False\n",
    "            current = node\n",
    "        \n",
    "        return current.endOfString\n",
    "    \n",
    "def delete(root, word, index):\n",
    "    ch = word[index]\n",
    "    current = root.children.get(ch)\n",
    "    canThisNodeBeDeleted = False\n",
    "    \n",
    "    if len(current.children) > 1:\n",
    "        delete(current, word, index+1)\n",
    "        return False\n",
    "    \n",
    "    if len(word) - 1 == index:\n",
    "        if len(current.children) >= 1:\n",
    "            current.endOfString = False\n",
    "            return current.endOfString\n",
    "        root.children.pop(ch)\n",
    "        return True\n",
    "    \n",
    "    if current.endOfString:\n",
    "        delete(current, word, index+1)\n",
    "        return False\n",
    "    \n",
    "    canThisNodeBeDeleted = delete(current, word, index+1)\n",
    "    \n",
    "    if canThisNodeBeDeleted:\n",
    "        root.children.pop(ch)\n",
    "        return True\n",
    "    return False\n",
    "        "
   ]
  },
  {
   "cell_type": "code",
   "execution_count": 12,
   "metadata": {
    "ExecuteTime": {
     "end_time": "2023-07-21T06:22:24.174506Z",
     "start_time": "2023-07-21T06:22:24.160803Z"
    }
   },
   "outputs": [
    {
     "name": "stdout",
     "output_type": "stream",
     "text": [
      "Successfully created\n",
      "Successfully created\n",
      "False\n"
     ]
    }
   ],
   "source": [
    "trie = Trie()\n",
    "trie.insert(\"App\")\n",
    "trie.insert(\"Apple\")\n",
    "print(trie.search(\"Apps\"))"
   ]
  },
  {
   "cell_type": "markdown",
   "metadata": {},
   "source": [
    "## Binary Tree"
   ]
  },
  {
   "cell_type": "code",
   "execution_count": 40,
   "metadata": {
    "ExecuteTime": {
     "end_time": "2023-08-19T11:55:08.992050Z",
     "start_time": "2023-08-19T11:55:08.940375Z"
    }
   },
   "outputs": [
    {
     "name": "stdout",
     "output_type": "stream",
     "text": [
      "Deepest node is Beer\n",
      "Drinks\n",
      "Hot\n",
      "Cold\n",
      "Tea\n",
      "Coffee\n",
      "Rum\n",
      "=====================\n",
      "Drinks\n",
      "Rum\n",
      "Cold\n",
      "Tea\n",
      "Coffee\n"
     ]
    }
   ],
   "source": [
    "from collections import deque\n",
    "\n",
    "class BinaryNode:\n",
    "    def __init__(self, data):\n",
    "        self.left = None\n",
    "        self.data = data\n",
    "        self.right = None\n",
    "        \n",
    "        \n",
    "def preorder(rootNode: BinaryNode):\n",
    "    if not rootNode:\n",
    "        return\n",
    "    print(rootNode.data)\n",
    "    preorder(rootNode.left)\n",
    "    preorder(rootNode.right)\n",
    "\n",
    "    \n",
    "def inorder(rootNode: BinaryNode):\n",
    "    if not rootNode:\n",
    "        return\n",
    "    inorder(rootNode.left)\n",
    "    print(rootNode.data)\n",
    "    inorder(rootNode.right)\n",
    "    \n",
    "    \n",
    "def postorder(rootNode: BinaryNode):\n",
    "    if not rootNode:\n",
    "        return\n",
    "    postorder(rootNode.left)\n",
    "    postorder(rootNode.right)\n",
    "    print(rootNode.data)\n",
    "    \n",
    "    \n",
    "def levelorder(rootNode: BinaryNode):\n",
    "    if not rootNode:\n",
    "        return\n",
    "    \n",
    "    q = deque()\n",
    "    q.append(rootNode)\n",
    "    \n",
    "    while q:\n",
    "        root = q.popleft()\n",
    "        print(root.data)\n",
    "        \n",
    "        if root.left:\n",
    "            q.append(root.left)\n",
    "        \n",
    "        if root.right:\n",
    "            q.append(root.right)\n",
    "            \n",
    "            \n",
    "def search(val: str or int, rootNode: BinaryNode):\n",
    "    if not rootNode:\n",
    "        return \"Tree is empty\"\n",
    "    q = deque()\n",
    "    q.append(rootNode)\n",
    "    \n",
    "    while q:\n",
    "        root = q.popleft()\n",
    "        if root.data == val:\n",
    "            return root.data\n",
    "        \n",
    "        if root.left:\n",
    "            q.append(root.left)\n",
    "        \n",
    "        if root.right:\n",
    "            q.append(root.right)\n",
    "            \n",
    "    return \"Value not found\"\n",
    "\n",
    "\n",
    "def insert(rootNode: BinaryNode, newNode: BinaryNode):\n",
    "    if not rootNode:\n",
    "        rootNode = newNode\n",
    "    else:\n",
    "        q = deque()\n",
    "        q.append(rootNode)\n",
    "        \n",
    "        while q:\n",
    "            root = q.popleft()\n",
    "            \n",
    "            if root.left:\n",
    "                q.append(root.left)\n",
    "            else:\n",
    "                root.left = newNode\n",
    "                return root.left.data\n",
    "            if root.right:\n",
    "                q.append(root.right)\n",
    "            else:\n",
    "                root.right = newNode\n",
    "                return root.right.data\n",
    "            \n",
    "            \n",
    "def getdeepestNode(rootNode: BinaryNode):\n",
    "    q = deque()\n",
    "    q.append(rootNode)\n",
    "    \n",
    "    root = rootNode\n",
    "    \n",
    "    while q:\n",
    "        root = q.popleft()\n",
    "        \n",
    "        if root.left:\n",
    "            q.append(root.left)\n",
    "            \n",
    "        if root.right:\n",
    "            q.append(root.right)\n",
    "    \n",
    "    return root\n",
    "\n",
    "\n",
    "def deleteDeepestNode(rootNode: BinaryNode, deepestNode: BinaryNode):\n",
    "    if not deepestNode:\n",
    "        return\n",
    "    \n",
    "    q = deque()\n",
    "    q.append(rootNode)\n",
    "    \n",
    "    while q:\n",
    "        root = q.popleft()\n",
    "        if root is deepestNode:\n",
    "            root = None\n",
    "            return\n",
    "        if root.right:\n",
    "            if root.right is deepestNode:\n",
    "                root.right = None\n",
    "                return\n",
    "            else:\n",
    "                q.append(root.right)\n",
    "        if root.left:\n",
    "            if root.left is deepestNode:\n",
    "                root.left = None\n",
    "                return\n",
    "            else:\n",
    "                q.append(root.left)\n",
    "\n",
    "def deleteNode(rootNode: BinaryNode, node: str):\n",
    "    if not rootNode:\n",
    "        return \"Binary Tree is empty\"\n",
    "    \n",
    "    q = deque()\n",
    "    q.append(rootNode)\n",
    "    \n",
    "    while q:\n",
    "        root = q.popleft()\n",
    "        \n",
    "        if root.data == node:\n",
    "            deepestNode = getdeepestNode(rootNode)\n",
    "            root.data = deepestNode.data\n",
    "            deleteDeepestNode(rootNode, deepestNode)\n",
    "            return \"Node deleted\"\n",
    "        \n",
    "        if root.left:\n",
    "            q.append(root.left)\n",
    "        if root.right:\n",
    "            q.append(root.right)\n",
    "    return \"Couldn't delete the node\"\n",
    "            \n",
    "newBt = BinaryNode(\"Drinks\")\n",
    "newBt.left = BinaryNode(\"Hot\")\n",
    "newBt.right = BinaryNode(\"Cold\")\n",
    "newBt.left.left = BinaryNode(\"Tea\")\n",
    "newBt.left.right = BinaryNode(\"Coffee\")\n",
    "newBt.right.left = BinaryNode(\"Rum\")\n",
    "newBt.right.right = BinaryNode(\"Beer\")\n",
    "\n",
    "# print(\"======= Preorder =============\")\n",
    "# preorder(newBt)\n",
    "\n",
    "# print(\"======= Inorder =============\")\n",
    "# inorder(newBt)\n",
    "\n",
    "# print(\"======= Postorder =============\")\n",
    "# postorder(newBt)\n",
    "\n",
    "# print(\"======= Levelorder =============\")\n",
    "# levelorder(newBt)\n",
    "\n",
    "# print(search('Whiskey', newBt))\n",
    "# print(insert(newBt, BinaryNode(\"Whiskey\")))\n",
    "# preorder(newBt)\n",
    "deepest = getdeepestNode(newBt)\n",
    "print(f\"Deepest node is {deepest.data}\")\n",
    "deleteDeepestNode(newBt, deepest)\n",
    "levelorder(newBt)\n",
    "\n",
    "print(\"=====================\")\n",
    "deleteNode(newBt, 'Hot')\n",
    "levelorder(newBt)"
   ]
  },
  {
   "cell_type": "code",
   "execution_count": null,
   "metadata": {},
   "outputs": [],
   "source": []
  }
 ],
 "metadata": {
  "colab": {
   "provenance": []
  },
  "kernelspec": {
   "display_name": "Python 3 (ipykernel)",
   "language": "python",
   "name": "python3"
  },
  "language_info": {
   "codemirror_mode": {
    "name": "ipython",
    "version": 3
   },
   "file_extension": ".py",
   "mimetype": "text/x-python",
   "name": "python",
   "nbconvert_exporter": "python",
   "pygments_lexer": "ipython3",
   "version": "3.9.16"
  }
 },
 "nbformat": 4,
 "nbformat_minor": 1
}
